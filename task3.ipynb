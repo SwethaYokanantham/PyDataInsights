{
 "cells": [
  {
   "cell_type": "code",
   "execution_count": 2,
   "id": "9800eef3",
   "metadata": {},
   "outputs": [
    {
     "name": "stdout",
     "output_type": "stream",
     "text": [
      "Collecting pymysql\n",
      "  Downloading PyMySQL-1.1.1-py3-none-any.whl (44 kB)\n",
      "Requirement already satisfied: sqlalchemy in c:\\users\\welcome\\anaconda3\\lib\\site-packages (1.4.32)\n",
      "Requirement already satisfied: greenlet!=0.4.17 in c:\\users\\welcome\\anaconda3\\lib\\site-packages (from sqlalchemy) (1.1.1)\n",
      "Installing collected packages: pymysql\n",
      "Successfully installed pymysql-1.1.1\n",
      "Note: you may need to restart the kernel to use updated packages.\n"
     ]
    }
   ],
   "source": [
    "pip install pymysql sqlalchemy\n"
   ]
  },
  {
   "cell_type": "code",
   "execution_count": 9,
   "id": "566853da",
   "metadata": {},
   "outputs": [
    {
     "name": "stdout",
     "output_type": "stream",
     "text": [
      "Empty DataFrame\n",
      "Columns: [Category, TotalExpense]\n",
      "Index: []\n"
     ]
    }
   ],
   "source": [
    "import pandas as pd\n",
    "from sqlalchemy import create_engine\n",
    "\n",
    "df = pd.read_csv('expensedata.csv')\n",
    "\n",
    "df.rename(columns={'Income/Expense': 'Income_Expense'}, inplace=True)\n",
    "\n",
    "username = 'root'\n",
    "password = 'MentalNaKodukka!'\n",
    "host = 'localhost'\n",
    "database = 'ExpenseTrackerDB'\n",
    "\n",
    "engine = create_engine(f'mysql+pymysql://{username}:{password}@{host}/{database}')\n",
    "\n"
   ]
  },
  {
   "cell_type": "code",
   "execution_count": 12,
   "id": "c560027f",
   "metadata": {},
   "outputs": [
    {
     "name": "stdout",
     "output_type": "stream",
     "text": [
      "   ID                Date               Account        Category  \\\n",
      "0  11 2022-03-02 10:11:00  CUB - online payment            Food   \n",
      "1  12 2022-03-02 10:11:00  CUB - online payment           Other   \n",
      "2  13 2022-03-01 19:50:00  CUB - online payment            Food   \n",
      "3  14 2022-03-01 18:56:00  CUB - online payment  Transportation   \n",
      "4  15 2022-03-01 18:22:00  CUB - online payment            Food   \n",
      "5  16 2022-03-01 18:22:00  CUB - online payment           Other   \n",
      "6  17 2022-03-01 18:21:00  CUB - online payment           Other   \n",
      "7  18 2022-02-28 11:56:00  CUB - online payment            Food   \n",
      "8  19 2022-02-28 11:45:00  CUB - online payment           Other   \n",
      "9  20 2022-02-27 15:29:00  CUB - online payment            Food   \n",
      "\n",
      "               Note     INR Income_Expense Currency  \n",
      "0           Brownie   50.00        Expense      INR  \n",
      "1  To lended people  300.00        Expense      INR  \n",
      "2            Dinner   78.00        Expense      INR  \n",
      "3             Metro   30.00        Expense      INR  \n",
      "4            Snacks   67.00        Expense      INR  \n",
      "5        From vicky  100.00         Income      INR  \n",
      "6          From dad  500.00         Income      INR  \n",
      "7             Pizza  339.15        Expense      INR  \n",
      "8       From kumara  200.00         Income      INR  \n",
      "9             Lunch  243.00        Expense      INR  \n"
     ]
    }
   ],
   "source": [
    "df_all = pd.read_sql_query(\"SELECT * FROM expenses_table LIMIT 10;\", engine)\n",
    "print(df_all)"
   ]
  },
  {
   "cell_type": "code",
   "execution_count": 19,
   "id": "a6b2e9a0",
   "metadata": {},
   "outputs": [
    {
     "name": "stdout",
     "output_type": "stream",
     "text": [
      "         Category  TotalExpense\n",
      "0           Other        2700.0\n",
      "1            Food         585.0\n",
      "2  Transportation          90.0\n"
     ]
    }
   ],
   "source": [
    "query = \"\"\"\n",
    "SELECT \n",
    "    Category,\n",
    "    SUM(INR) AS TotalExpense\n",
    "FROM \n",
    "    expenses_table\n",
    "WHERE \n",
    "    DATE_FORMAT(Date, '%%Y-%%m') = '2022-03'\n",
    "GROUP BY \n",
    "    Category\n",
    "ORDER BY \n",
    "    TotalExpense DESC;\n",
    "\"\"\"\n",
    "\n",
    "df2 = pd.read_sql_query(query, engine)\n",
    "print(df2)\n"
   ]
  },
  {
   "cell_type": "code",
   "execution_count": null,
   "id": "178e0738",
   "metadata": {},
   "outputs": [],
   "source": []
  }
 ],
 "metadata": {
  "kernelspec": {
   "display_name": "Python 3 (ipykernel)",
   "language": "python",
   "name": "python3"
  },
  "language_info": {
   "codemirror_mode": {
    "name": "ipython",
    "version": 3
   },
   "file_extension": ".py",
   "mimetype": "text/x-python",
   "name": "python",
   "nbconvert_exporter": "python",
   "pygments_lexer": "ipython3",
   "version": "3.9.12"
  }
 },
 "nbformat": 4,
 "nbformat_minor": 5
}
