{
 "cells": [
  {
   "cell_type": "code",
   "execution_count": 8,
   "id": "b24ccf38",
   "metadata": {},
   "outputs": [
    {
     "data": {
      "text/html": [
       "<div>\n",
       "<style scoped>\n",
       "    .dataframe tbody tr th:only-of-type {\n",
       "        vertical-align: middle;\n",
       "    }\n",
       "\n",
       "    .dataframe tbody tr th {\n",
       "        vertical-align: top;\n",
       "    }\n",
       "\n",
       "    .dataframe thead th {\n",
       "        text-align: right;\n",
       "    }\n",
       "</style>\n",
       "<table border=\"1\" class=\"dataframe\">\n",
       "  <thead>\n",
       "    <tr style=\"text-align: right;\">\n",
       "      <th></th>\n",
       "      <th>customer_id</th>\n",
       "      <th>channel</th>\n",
       "      <th>spend</th>\n",
       "      <th>conversion</th>\n",
       "      <th>region</th>\n",
       "      <th>age_group</th>\n",
       "      <th>time_of_day</th>\n",
       "    </tr>\n",
       "  </thead>\n",
       "  <tbody>\n",
       "    <tr>\n",
       "      <th>0</th>\n",
       "      <td>CUST1000</td>\n",
       "      <td>Search Ads</td>\n",
       "      <td>186.76</td>\n",
       "      <td>1</td>\n",
       "      <td>South</td>\n",
       "      <td>35-44</td>\n",
       "      <td>Night</td>\n",
       "    </tr>\n",
       "    <tr>\n",
       "      <th>1</th>\n",
       "      <td>CUST1001</td>\n",
       "      <td>Referral</td>\n",
       "      <td>115.20</td>\n",
       "      <td>0</td>\n",
       "      <td>South</td>\n",
       "      <td>55+</td>\n",
       "      <td>Evening</td>\n",
       "    </tr>\n",
       "    <tr>\n",
       "      <th>2</th>\n",
       "      <td>CUST1002</td>\n",
       "      <td>Social Media</td>\n",
       "      <td>140.85</td>\n",
       "      <td>0</td>\n",
       "      <td>West</td>\n",
       "      <td>25-34</td>\n",
       "      <td>Morning</td>\n",
       "    </tr>\n",
       "    <tr>\n",
       "      <th>3</th>\n",
       "      <td>CUST1003</td>\n",
       "      <td>Referral</td>\n",
       "      <td>184.89</td>\n",
       "      <td>0</td>\n",
       "      <td>West</td>\n",
       "      <td>55+</td>\n",
       "      <td>Night</td>\n",
       "    </tr>\n",
       "    <tr>\n",
       "      <th>4</th>\n",
       "      <td>CUST1004</td>\n",
       "      <td>Referral</td>\n",
       "      <td>142.91</td>\n",
       "      <td>1</td>\n",
       "      <td>East</td>\n",
       "      <td>18-24</td>\n",
       "      <td>Night</td>\n",
       "    </tr>\n",
       "    <tr>\n",
       "      <th>...</th>\n",
       "      <td>...</td>\n",
       "      <td>...</td>\n",
       "      <td>...</td>\n",
       "      <td>...</td>\n",
       "      <td>...</td>\n",
       "      <td>...</td>\n",
       "      <td>...</td>\n",
       "    </tr>\n",
       "    <tr>\n",
       "      <th>995</th>\n",
       "      <td>CUST1995</td>\n",
       "      <td>SMS</td>\n",
       "      <td>148.80</td>\n",
       "      <td>1</td>\n",
       "      <td>East</td>\n",
       "      <td>45-54</td>\n",
       "      <td>Morning</td>\n",
       "    </tr>\n",
       "    <tr>\n",
       "      <th>996</th>\n",
       "      <td>CUST1996</td>\n",
       "      <td>Email</td>\n",
       "      <td>104.88</td>\n",
       "      <td>0</td>\n",
       "      <td>West</td>\n",
       "      <td>18-24</td>\n",
       "      <td>Morning</td>\n",
       "    </tr>\n",
       "    <tr>\n",
       "      <th>997</th>\n",
       "      <td>CUST1997</td>\n",
       "      <td>Email</td>\n",
       "      <td>137.64</td>\n",
       "      <td>0</td>\n",
       "      <td>Central</td>\n",
       "      <td>45-54</td>\n",
       "      <td>Afternoon</td>\n",
       "    </tr>\n",
       "    <tr>\n",
       "      <th>998</th>\n",
       "      <td>CUST1998</td>\n",
       "      <td>Search Ads</td>\n",
       "      <td>13.13</td>\n",
       "      <td>0</td>\n",
       "      <td>East</td>\n",
       "      <td>35-44</td>\n",
       "      <td>Afternoon</td>\n",
       "    </tr>\n",
       "    <tr>\n",
       "      <th>999</th>\n",
       "      <td>CUST1999</td>\n",
       "      <td>Social Media</td>\n",
       "      <td>21.53</td>\n",
       "      <td>0</td>\n",
       "      <td>West</td>\n",
       "      <td>35-44</td>\n",
       "      <td>Night</td>\n",
       "    </tr>\n",
       "  </tbody>\n",
       "</table>\n",
       "<p>1000 rows × 7 columns</p>\n",
       "</div>"
      ],
      "text/plain": [
       "    customer_id       channel   spend  conversion   region age_group  \\\n",
       "0      CUST1000    Search Ads  186.76           1    South     35-44   \n",
       "1      CUST1001      Referral  115.20           0    South       55+   \n",
       "2      CUST1002  Social Media  140.85           0     West     25-34   \n",
       "3      CUST1003      Referral  184.89           0     West       55+   \n",
       "4      CUST1004      Referral  142.91           1     East     18-24   \n",
       "..          ...           ...     ...         ...      ...       ...   \n",
       "995    CUST1995           SMS  148.80           1     East     45-54   \n",
       "996    CUST1996         Email  104.88           0     West     18-24   \n",
       "997    CUST1997         Email  137.64           0  Central     45-54   \n",
       "998    CUST1998    Search Ads   13.13           0     East     35-44   \n",
       "999    CUST1999  Social Media   21.53           0     West     35-44   \n",
       "\n",
       "    time_of_day  \n",
       "0         Night  \n",
       "1       Evening  \n",
       "2       Morning  \n",
       "3         Night  \n",
       "4         Night  \n",
       "..          ...  \n",
       "995     Morning  \n",
       "996     Morning  \n",
       "997   Afternoon  \n",
       "998   Afternoon  \n",
       "999       Night  \n",
       "\n",
       "[1000 rows x 7 columns]"
      ]
     },
     "execution_count": 8,
     "metadata": {},
     "output_type": "execute_result"
    }
   ],
   "source": [
    "import pandas as pd\n",
    "import seaborn as sns\n",
    "import matplotlib.pyplot as plt\n",
    "\n",
    "df = pd.read_csv(\"marketing_conversion_dataset.csv\")  \n",
    "df"
   ]
  },
  {
   "cell_type": "code",
   "execution_count": 10,
   "id": "07e35bf9",
   "metadata": {},
   "outputs": [
    {
     "name": "stdout",
     "output_type": "stream",
     "text": [
      "(1000, 7)\n",
      "<class 'pandas.core.frame.DataFrame'>\n",
      "RangeIndex: 1000 entries, 0 to 999\n",
      "Data columns (total 7 columns):\n",
      " #   Column       Non-Null Count  Dtype  \n",
      "---  ------       --------------  -----  \n",
      " 0   customer_id  1000 non-null   object \n",
      " 1   channel      1000 non-null   object \n",
      " 2   spend        1000 non-null   float64\n",
      " 3   conversion   1000 non-null   int64  \n",
      " 4   region       1000 non-null   object \n",
      " 5   age_group    1000 non-null   object \n",
      " 6   time_of_day  1000 non-null   object \n",
      "dtypes: float64(1), int64(1), object(5)\n",
      "memory usage: 54.8+ KB\n",
      "None\n"
     ]
    }
   ],
   "source": [
    "print(df.shape)\n",
    "print(df.info())"
   ]
  },
  {
   "cell_type": "code",
   "execution_count": 11,
   "id": "d47f7b92",
   "metadata": {},
   "outputs": [
    {
     "name": "stdout",
     "output_type": "stream",
     "text": [
      "customer_id    0\n",
      "channel        0\n",
      "spend          0\n",
      "conversion     0\n",
      "region         0\n",
      "age_group      0\n",
      "time_of_day    0\n",
      "dtype: int64\n"
     ]
    }
   ],
   "source": [
    "#basic cleaning\n",
    "print(df.isnull().sum())\n",
    "df = df.drop_duplicates()"
   ]
  },
  {
   "cell_type": "code",
   "execution_count": 12,
   "id": "3bdb511b",
   "metadata": {
    "scrolled": true
   },
   "outputs": [
    {
     "data": {
      "text/plain": [
       "channel\n",
       "Referral        0.357843\n",
       "SMS             0.342105\n",
       "Search Ads      0.281553\n",
       "Email           0.280952\n",
       "Social Media    0.242105\n",
       "Name: conversion, dtype: float64"
      ]
     },
     "execution_count": 12,
     "metadata": {},
     "output_type": "execute_result"
    }
   ],
   "source": [
    "#most effective marketing chanel\n",
    "conversion_by_channel = df.groupby('channel')['conversion'].mean().sort_values(ascending=False)\n",
    "conversion_by_channel"
   ]
  },
  {
   "cell_type": "code",
   "execution_count": 13,
   "id": "48d65210",
   "metadata": {},
   "outputs": [
    {
     "data": {
      "text/plain": [
       "(time_of_day\n",
       " Evening      0.325581\n",
       " Night        0.311404\n",
       " Afternoon    0.307393\n",
       " Morning      0.260700\n",
       " Name: conversion, dtype: float64,\n",
       " region\n",
       " South      0.340314\n",
       " North      0.313433\n",
       " Central    0.305825\n",
       " East       0.297674\n",
       " West       0.245989\n",
       " Name: conversion, dtype: float64)"
      ]
     },
     "execution_count": 13,
     "metadata": {},
     "output_type": "execute_result"
    }
   ],
   "source": [
    "#pattern conversion by time of day or region\n",
    "conversion_by_time = df.groupby('time_of_day')['conversion'].mean().sort_values(ascending=False)\n",
    "conversion_by_region = df.groupby('region')['conversion'].mean().sort_values(ascending=False)\n",
    "conversion_by_time, conversion_by_region"
   ]
  },
  {
   "cell_type": "code",
   "execution_count": 14,
   "id": "3038be9d",
   "metadata": {},
   "outputs": [
    {
     "data": {
      "text/plain": [
       "(108.03415282392035, 100.18516452074397, 0.06310544513820607)"
      ]
     },
     "execution_count": 14,
     "metadata": {},
     "output_type": "execute_result"
    }
   ],
   "source": [
    "#spend correlation with conversion\n",
    "\n",
    "avg_spend_converted = df[df['conversion'] == 1]['spend'].mean()\n",
    "avg_spend_not_converted = df[df['conversion'] == 0]['spend'].mean()\n",
    "correlation = df['spend'].corr(df['conversion'])\n",
    "avg_spend_converted, avg_spend_not_converted, correlation"
   ]
  },
  {
   "cell_type": "code",
   "execution_count": null,
   "id": "fc9dcf15",
   "metadata": {},
   "outputs": [],
   "source": [
    "#Visualizations"
   ]
  },
  {
   "cell_type": "code",
   "execution_count": 19,
   "id": "9b106632",
   "metadata": {},
   "outputs": [
    {
     "data": {
      "image/png": "[encoded data removed]",
      "text/plain": [
       "<Figure size 432x288 with 1 Axes>"
      ]
     },
     "metadata": {
      "needs_background": "light"
     },
     "output_type": "display_data"
    }
   ],
   "source": [
    "#conversion rate by markering chanel\n",
    "channel_conversion = df.groupby('channel')['conversion'].mean().sort_values(ascending=False).reset_index()\n",
    "\n",
    "sns.barplot(data=channel_conversion, x='conversion', y='channel')\n",
    "plt.title('Conversion Rate by Marketing Channel')\n",
    "plt.xlabel('Conversion Rate')\n",
    "plt.ylabel('Marketing Channel')\n",
    "plt.show()\n"
   ]
  },
  {
   "cell_type": "code",
   "execution_count": 18,
   "id": "a1530ea2",
   "metadata": {},
   "outputs": [
    {
     "data": {
      "image/png": "[encoded data removed]",
      "text/plain": [
       "<Figure size 432x288 with 1 Axes>"
      ]
     },
     "metadata": {
      "needs_background": "light"
     },
     "output_type": "display_data"
    }
   ],
   "source": [
    "#conversion by time of day\n",
    "time_conversion = df.groupby('time_of_day')['conversion'].mean().sort_values(ascending=False).reset_index()\n",
    "\n",
    "sns.barplot(data=time_conversion, x='conversion', y='time_of_day')\n",
    "plt.title('Conversion Rate by Time of Day')\n",
    "plt.xlabel('Conversion Rate')\n",
    "plt.ylabel('Time of Day')\n",
    "plt.show()"
   ]
  },
  {
   "cell_type": "code",
   "execution_count": 20,
   "id": "8b956249",
   "metadata": {},
   "outputs": [
    {
     "data": {
      "image/png": "[encoded data removed]",
      "text/plain": [
       "<Figure size 432x288 with 1 Axes>"
      ]
     },
     "metadata": {
      "needs_background": "light"
     },
     "output_type": "display_data"
    }
   ],
   "source": [
    "#coversion by region\n",
    "region_conversion = df.groupby('region')['conversion'].mean().sort_values(ascending=False).reset_index()\n",
    "\n",
    "sns.barplot(data=region_conversion, x='conversion', y='region')\n",
    "plt.title('Conversion Rate by Region')\n",
    "plt.xlabel('Conversion Rate')\n",
    "plt.ylabel('Region')\n",
    "plt.show()"
   ]
  },
  {
   "cell_type": "code",
   "execution_count": null,
   "id": "985a58d0",
   "metadata": {},
   "outputs": [],
   "source": []
  }
 ],
 "metadata": {
  "kernelspec": {
   "display_name": "Python 3 (ipykernel)",
   "language": "python",
   "name": "python3"
  },
  "language_info": {
   "codemirror_mode": {
    "name": "ipython",
    "version": 3
   },
   "file_extension": ".py",
   "mimetype": "text/x-python",
   "name": "python",
   "nbconvert_exporter": "python",
   "pygments_lexer": "ipython3",
   "version": "3.9.12"
  }
 },
 "nbformat": 4,
 "nbformat_minor": 5
}
